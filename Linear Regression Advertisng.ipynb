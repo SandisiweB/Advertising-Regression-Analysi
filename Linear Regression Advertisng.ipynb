{
 "cells": [
  {
   "cell_type": "markdown",
   "id": "106be00a",
   "metadata": {},
   "source": [
    "# Linear Regression: Advertisement Analysis "
   ]
  },
  {
   "cell_type": "markdown",
   "id": "fbcb5305",
   "metadata": {},
   "source": [
    "\n",
    "\n",
    "**Background:**\n",
    "A company invests in advertising across different channels such as TV, radio, and newspaper to promote its products. The goal is to optimize the advertising budget allocation to maximize sales.\n",
    "\n",
    "**Objective:**\n",
    "\n",
    "-  Utilize linear regression to develop a predictive model for the advertising dataset, enabling accurate forecasts of key performance metrics based on varying advertising budgets.\n",
    "- Utilize linear regression to analyze the historical advertising dataset and provide insights and recommendations for optimizing the advertising budget."
   ]
  },
  {
   "cell_type": "code",
   "execution_count": 2,
   "id": "0a1aedb1",
   "metadata": {},
   "outputs": [],
   "source": [
    "import pandas as pd\n",
    "import numpy as np\n",
    "import matplotlib.pyplot as plt\n",
    "import seaborn as sns\n",
    "from sklearn.linear_model import LinearRegression\n",
    "from sklearn.model_selection import train_test_split\n",
    "import scipy.stats as stats\n",
    "from sklearn.metrics import mean_squared_error , r2_score\n",
    "\n"
   ]
  },
  {
   "cell_type": "code",
   "execution_count": 3,
   "id": "cd509459",
   "metadata": {},
   "outputs": [
    {
     "data": {
      "text/html": [
       "<div>\n",
       "<style scoped>\n",
       "    .dataframe tbody tr th:only-of-type {\n",
       "        vertical-align: middle;\n",
       "    }\n",
       "\n",
       "    .dataframe tbody tr th {\n",
       "        vertical-align: top;\n",
       "    }\n",
       "\n",
       "    .dataframe thead th {\n",
       "        text-align: right;\n",
       "    }\n",
       "</style>\n",
       "<table border=\"1\" class=\"dataframe\">\n",
       "  <thead>\n",
       "    <tr style=\"text-align: right;\">\n",
       "      <th></th>\n",
       "      <th>TV</th>\n",
       "      <th>Radio</th>\n",
       "      <th>Newspaper</th>\n",
       "      <th>Sales</th>\n",
       "    </tr>\n",
       "  </thead>\n",
       "  <tbody>\n",
       "    <tr>\n",
       "      <th>0</th>\n",
       "      <td>230.1</td>\n",
       "      <td>37.8</td>\n",
       "      <td>69.2</td>\n",
       "      <td>22.1</td>\n",
       "    </tr>\n",
       "    <tr>\n",
       "      <th>1</th>\n",
       "      <td>44.5</td>\n",
       "      <td>39.3</td>\n",
       "      <td>45.1</td>\n",
       "      <td>10.4</td>\n",
       "    </tr>\n",
       "    <tr>\n",
       "      <th>2</th>\n",
       "      <td>17.2</td>\n",
       "      <td>45.9</td>\n",
       "      <td>69.3</td>\n",
       "      <td>12.0</td>\n",
       "    </tr>\n",
       "    <tr>\n",
       "      <th>3</th>\n",
       "      <td>151.5</td>\n",
       "      <td>41.3</td>\n",
       "      <td>58.5</td>\n",
       "      <td>16.5</td>\n",
       "    </tr>\n",
       "    <tr>\n",
       "      <th>4</th>\n",
       "      <td>180.8</td>\n",
       "      <td>10.8</td>\n",
       "      <td>58.4</td>\n",
       "      <td>17.9</td>\n",
       "    </tr>\n",
       "  </tbody>\n",
       "</table>\n",
       "</div>"
      ],
      "text/plain": [
       "      TV  Radio  Newspaper  Sales\n",
       "0  230.1   37.8       69.2   22.1\n",
       "1   44.5   39.3       45.1   10.4\n",
       "2   17.2   45.9       69.3   12.0\n",
       "3  151.5   41.3       58.5   16.5\n",
       "4  180.8   10.8       58.4   17.9"
      ]
     },
     "execution_count": 3,
     "metadata": {},
     "output_type": "execute_result"
    }
   ],
   "source": [
    "df = pd.read_csv(r'advertising.csv')\n",
    "df.head()\n"
   ]
  },
  {
   "cell_type": "markdown",
   "id": "858fa0b2",
   "metadata": {},
   "source": [
    "## Data Preprocessing and Data Exploration"
   ]
  },
  {
   "cell_type": "code",
   "execution_count": 3,
   "id": "193d045f",
   "metadata": {
    "scrolled": true
   },
   "outputs": [
    {
     "data": {
      "text/html": [
       "<div>\n",
       "<style scoped>\n",
       "    .dataframe tbody tr th:only-of-type {\n",
       "        vertical-align: middle;\n",
       "    }\n",
       "\n",
       "    .dataframe tbody tr th {\n",
       "        vertical-align: top;\n",
       "    }\n",
       "\n",
       "    .dataframe thead th {\n",
       "        text-align: right;\n",
       "    }\n",
       "</style>\n",
       "<table border=\"1\" class=\"dataframe\">\n",
       "  <thead>\n",
       "    <tr style=\"text-align: right;\">\n",
       "      <th></th>\n",
       "      <th>TV</th>\n",
       "      <th>Radio</th>\n",
       "      <th>Newspaper</th>\n",
       "      <th>Sales</th>\n",
       "    </tr>\n",
       "  </thead>\n",
       "  <tbody>\n",
       "    <tr>\n",
       "      <th>count</th>\n",
       "      <td>200.000000</td>\n",
       "      <td>200.000000</td>\n",
       "      <td>200.000000</td>\n",
       "      <td>200.000000</td>\n",
       "    </tr>\n",
       "    <tr>\n",
       "      <th>mean</th>\n",
       "      <td>147.042500</td>\n",
       "      <td>23.264000</td>\n",
       "      <td>30.554000</td>\n",
       "      <td>15.130500</td>\n",
       "    </tr>\n",
       "    <tr>\n",
       "      <th>std</th>\n",
       "      <td>85.854236</td>\n",
       "      <td>14.846809</td>\n",
       "      <td>21.778621</td>\n",
       "      <td>5.283892</td>\n",
       "    </tr>\n",
       "    <tr>\n",
       "      <th>min</th>\n",
       "      <td>0.700000</td>\n",
       "      <td>0.000000</td>\n",
       "      <td>0.300000</td>\n",
       "      <td>1.600000</td>\n",
       "    </tr>\n",
       "    <tr>\n",
       "      <th>25%</th>\n",
       "      <td>74.375000</td>\n",
       "      <td>9.975000</td>\n",
       "      <td>12.750000</td>\n",
       "      <td>11.000000</td>\n",
       "    </tr>\n",
       "    <tr>\n",
       "      <th>50%</th>\n",
       "      <td>149.750000</td>\n",
       "      <td>22.900000</td>\n",
       "      <td>25.750000</td>\n",
       "      <td>16.000000</td>\n",
       "    </tr>\n",
       "    <tr>\n",
       "      <th>75%</th>\n",
       "      <td>218.825000</td>\n",
       "      <td>36.525000</td>\n",
       "      <td>45.100000</td>\n",
       "      <td>19.050000</td>\n",
       "    </tr>\n",
       "    <tr>\n",
       "      <th>max</th>\n",
       "      <td>296.400000</td>\n",
       "      <td>49.600000</td>\n",
       "      <td>114.000000</td>\n",
       "      <td>27.000000</td>\n",
       "    </tr>\n",
       "  </tbody>\n",
       "</table>\n",
       "</div>"
      ],
      "text/plain": [
       "               TV       Radio   Newspaper       Sales\n",
       "count  200.000000  200.000000  200.000000  200.000000\n",
       "mean   147.042500   23.264000   30.554000   15.130500\n",
       "std     85.854236   14.846809   21.778621    5.283892\n",
       "min      0.700000    0.000000    0.300000    1.600000\n",
       "25%     74.375000    9.975000   12.750000   11.000000\n",
       "50%    149.750000   22.900000   25.750000   16.000000\n",
       "75%    218.825000   36.525000   45.100000   19.050000\n",
       "max    296.400000   49.600000  114.000000   27.000000"
      ]
     },
     "execution_count": 3,
     "metadata": {},
     "output_type": "execute_result"
    }
   ],
   "source": [
    "df.describe()"
   ]
  },
  {
   "cell_type": "markdown",
   "id": "e69b54ae",
   "metadata": {},
   "source": [
    "The mean value of the Newspaper feature it to low for the maximum value that so high,  and 75% of the data lies close to the mean and far away from the maximum value. This strikes an interest."
   ]
  },
  {
   "cell_type": "code",
   "execution_count": 5,
   "id": "1ed02ffb",
   "metadata": {},
   "outputs": [
    {
     "name": "stdout",
     "output_type": "stream",
     "text": [
      "TV           0\n",
      "Radio        0\n",
      "Newspaper    0\n",
      "Sales        0\n",
      "dtype: int64\n"
     ]
    }
   ],
   "source": [
    "#checking the missing values\n",
    "missing_values = df.isnull().sum()\n",
    "print(missing_values)"
   ]
  },
  {
   "cell_type": "code",
   "execution_count": 31,
   "id": "1d1c9231",
   "metadata": {},
   "outputs": [
    {
     "data": {
      "image/png": "[encoded data removed]",
      "text/plain": [
       "<Figure size 500x1500 with 3 Axes>"
      ]
     },
     "metadata": {},
     "output_type": "display_data"
    }
   ],
   "source": [
    "\n",
    "\n",
    "# Create subplots with three separate axes\n",
    "fig, axes = plt.subplots(nrows=3, ncols=1, figsize=(5, 15))\n",
    "\n",
    "# Box plot and swarm plot for 'TV'\n",
    "sns.boxplot(x=df['TV'], ax=axes[0])\n",
    "sns.swarmplot(x='TV', data=df, palette='dark:black', size=3, ax=axes[0], hue=df['TV'])\n",
    "axes[0].set_title('TV')\n",
    "\n",
    "# Box plot and swarm plot for 'Radio'\n",
    "sns.boxplot(x=df['Radio'], ax=axes[1])\n",
    "sns.swarmplot(x='Radio', data=df, palette='dark:black', size=3, ax=axes[1], hue=df['Radio'])\n",
    "axes[1].set_title('Radio')\n",
    "\n",
    "# Box plot and swarm plot for 'Newspaper'\n",
    "sns.boxplot(x=df['Newspaper'], ax=axes[2])\n",
    "sns.swarmplot(x='Newspaper', data=df, palette='dark:black', size=3, ax=axes[2], hue=df['Newspaper'])\n",
    "axes[2].set_title('Newspaper')\n",
    "\n",
    "plt.tight_layout()\n",
    "plt.show()\n"
   ]
  },
  {
   "cell_type": "markdown",
   "id": "d5e6f94d",
   "metadata": {},
   "source": [
    "found two points lies beyond the maximum in the newspaper box and whisker, thats a potential area of interest. Therefore, further inspection on the two data points is needed to understand the nature and whether they are valid data points or potential errors. \\n\n",
    "I'll use statistical methods to quantify the extent to which the values in the 'Newspaper' column deviate from the norm.\n",
    "\n",
    "Data distribution analysis:\n",
    "- Radio and Tv boxes are in the middle indicating a normal distrubition of data and have large boxes indicating a larger spread, large standard deviation.\n",
    "- Whereas the box of the newspaer is skewed to the right and with small box showing a small spread.\n"
   ]
  },
  {
   "cell_type": "code",
   "execution_count": 37,
   "id": "ce4b5afd",
   "metadata": {},
   "outputs": [
    {
     "data": {
      "text/plain": [
       "count    200.000000\n",
       "mean      30.554000\n",
       "std       21.778621\n",
       "min        0.300000\n",
       "25%       12.750000\n",
       "50%       25.750000\n",
       "75%       45.100000\n",
       "max      114.000000\n",
       "Name: Newspaper, dtype: float64"
      ]
     },
     "execution_count": 37,
     "metadata": {},
     "output_type": "execute_result"
    }
   ],
   "source": [
    "df['Newspaper'].describe()\n"
   ]
  },
  {
   "cell_type": "markdown",
   "id": "a4efa7a8",
   "metadata": {},
   "source": [
    "the maximum vakues is deviated too much from the middle value. howver that is not enough to ientified the values as outliers."
   ]
  },
  {
   "cell_type": "code",
   "execution_count": 42,
   "id": "aa2026f6",
   "metadata": {},
   "outputs": [
    {
     "name": "stdout",
     "output_type": "stream",
     "text": [
      "        TV  Radio  Newspaper  Sales\n",
      "0    230.1   37.8       69.2   22.1\n",
      "1     44.5   39.3       45.1   10.4\n",
      "2     17.2   45.9       69.3   12.0\n",
      "3    151.5   41.3       58.5   16.5\n",
      "4    180.8   10.8       58.4   17.9\n",
      "5      8.7   48.9       75.0    7.2\n",
      "12    23.8   35.1       65.9    9.2\n",
      "14   204.1   32.9       46.0   19.0\n",
      "15   195.4   47.7       52.9   22.4\n",
      "16    67.8   36.6      114.0   12.5\n",
      "17   281.4   39.6       55.8   24.4\n",
      "20   218.4   27.7       53.4   18.0\n",
      "22    13.2   15.9       49.6    5.6\n",
      "37    74.7   49.4       45.7   14.7\n",
      "48   227.2   15.8       49.9   19.8\n",
      "53   182.6   46.2       58.7   21.2\n",
      "55   198.9   49.4       60.0   23.7\n",
      "61   261.3   42.7       54.7   24.2\n",
      "75    16.9   43.7       89.4    8.7\n",
      "85   193.2   18.4       65.7   20.2\n",
      "87   110.7   40.6       63.2   16.0\n",
      "88    88.3   25.5       73.4   12.9\n",
      "89   109.8   47.8       51.4   16.7\n",
      "92   217.7   33.5       59.0   19.4\n",
      "93   250.9   36.5       72.3   22.2\n",
      "95   163.3   31.6       52.9   16.9\n",
      "98   289.7   42.3       51.2   25.4\n",
      "99   135.2   41.7       45.9   17.2\n",
      "100  222.4    4.3       49.8   16.7\n",
      "101  296.4   36.3      100.9   23.8\n",
      "105  137.9   46.4       59.0   15.0\n",
      "110  225.8    8.2       56.5   18.4\n",
      "115   75.1   35.0       52.7   12.6\n",
      "118  125.7   36.9       79.2   15.9\n",
      "120  141.3   26.8       46.2   15.5\n",
      "121   18.8   21.7       50.4    7.0\n",
      "124  229.5   32.3       74.2   19.7\n",
      "126    7.8   38.9       50.6    6.6\n",
      "133  219.8   33.5       45.1   19.6\n",
      "134   36.9   38.6       65.6   10.8\n",
      "137  273.7   28.9       59.7   20.8\n",
      "141  193.7   35.4       75.6   19.2\n",
      "151  121.0    8.4       48.7   11.6\n",
      "156   93.9   43.5       50.5   15.3\n",
      "158   11.7   36.9       45.2    7.3\n",
      "161   85.7   35.8       49.3   13.3\n",
      "165  234.5    3.4       84.8   16.9\n",
      "168  215.4   23.6       57.6   17.1\n",
      "171  164.5   20.9       47.4   17.5\n",
      "183  287.6   43.0       71.8   26.2\n",
      "198  283.6   42.0       66.2   25.5\n"
     ]
    }
   ],
   "source": [
    "# Calculate the lower quartile (25th percentile)\n",
    "upper_quantile = df['Newspaper'].quantile(0.75)\n",
    "\n",
    "# Get values in the lower quantile\n",
    "upper_quantile_values = df[df['Newspaper'] >= upper_quantile]\n",
    "\n",
    "print(upper_quantile_values)"
   ]
  },
  {
   "cell_type": "markdown",
   "id": "bd37dbc3",
   "metadata": {},
   "source": [
    "in comparison with other values in the column 100 and 114 in comparison with other values in th Newspaper column it too deviated. We will perfomrm z-score as the last step to justify if these two points are outliers."
   ]
  },
  {
   "cell_type": "code",
   "execution_count": 4,
   "id": "534a9275",
   "metadata": {},
   "outputs": [
    {
     "name": "stdout",
     "output_type": "stream",
     "text": [
      "Rows with outliers based on Z-score:\n",
      "     Newspaper   z_score\n",
      "16       114.0  3.831556\n",
      "101      100.9  3.230048\n"
     ]
    }
   ],
   "source": [
    "df1 = df.copy()\n",
    "# Compute Z-scores\n",
    "df1['z_score'] = (df1['Newspaper'] - df1['Newspaper'].mean()) / df1['Newspaper'].std()\n",
    "\n",
    "# Identify outliers based on Z-scores\n",
    "outliers_zscore = df1[df1['z_score'] > 3]\n",
    "\n",
    "# Display the rows with outliers\n",
    "print(\"Rows with outliers based on Z-score:\")\n",
    "print(outliers_zscore[['Newspaper', 'z_score']])"
   ]
  },
  {
   "cell_type": "markdown",
   "id": "7e5f142d",
   "metadata": {},
   "source": [
    "The deviation of the 100 and 114 are further from the mean. \n",
    "With all the inspection done above, it its justified to treat them as outliers\n",
    "For this reason, We'll need to remove them from so that they wont influence the linear regression model. Therefore, we will create a new dataframe that will exclude these two datapoints."
   ]
  },
  {
   "cell_type": "code",
   "execution_count": 5,
   "id": "400028d4",
   "metadata": {},
   "outputs": [
    {
     "name": "stdout",
     "output_type": "stream",
     "text": [
      "DataFrame with outliers: (200, 5)\n",
      "DataFrame without outliers: (198, 5)\n"
     ]
    }
   ],
   "source": [
    "#Remove outliers\n",
    "df2 = df1[df1['z_score'] < 3]\n",
    "print(\"DataFrame with outliers:\", df1.shape)\n",
    "print(\"DataFrame without outliers:\", df2.shape)\n"
   ]
  },
  {
   "cell_type": "code",
   "execution_count": 6,
   "id": "0d982cbd",
   "metadata": {},
   "outputs": [
    {
     "data": {
      "text/html": [
       "<div>\n",
       "<style scoped>\n",
       "    .dataframe tbody tr th:only-of-type {\n",
       "        vertical-align: middle;\n",
       "    }\n",
       "\n",
       "    .dataframe tbody tr th {\n",
       "        vertical-align: top;\n",
       "    }\n",
       "\n",
       "    .dataframe thead th {\n",
       "        text-align: right;\n",
       "    }\n",
       "</style>\n",
       "<table border=\"1\" class=\"dataframe\">\n",
       "  <thead>\n",
       "    <tr style=\"text-align: right;\">\n",
       "      <th></th>\n",
       "      <th>TV</th>\n",
       "      <th>Radio</th>\n",
       "      <th>Newspaper</th>\n",
       "      <th>Sales</th>\n",
       "    </tr>\n",
       "  </thead>\n",
       "  <tbody>\n",
       "    <tr>\n",
       "      <th>0</th>\n",
       "      <td>230.1</td>\n",
       "      <td>37.8</td>\n",
       "      <td>69.2</td>\n",
       "      <td>22.1</td>\n",
       "    </tr>\n",
       "    <tr>\n",
       "      <th>1</th>\n",
       "      <td>44.5</td>\n",
       "      <td>39.3</td>\n",
       "      <td>45.1</td>\n",
       "      <td>10.4</td>\n",
       "    </tr>\n",
       "    <tr>\n",
       "      <th>2</th>\n",
       "      <td>17.2</td>\n",
       "      <td>45.9</td>\n",
       "      <td>69.3</td>\n",
       "      <td>12.0</td>\n",
       "    </tr>\n",
       "    <tr>\n",
       "      <th>3</th>\n",
       "      <td>151.5</td>\n",
       "      <td>41.3</td>\n",
       "      <td>58.5</td>\n",
       "      <td>16.5</td>\n",
       "    </tr>\n",
       "    <tr>\n",
       "      <th>4</th>\n",
       "      <td>180.8</td>\n",
       "      <td>10.8</td>\n",
       "      <td>58.4</td>\n",
       "      <td>17.9</td>\n",
       "    </tr>\n",
       "  </tbody>\n",
       "</table>\n",
       "</div>"
      ],
      "text/plain": [
       "      TV  Radio  Newspaper  Sales\n",
       "0  230.1   37.8       69.2   22.1\n",
       "1   44.5   39.3       45.1   10.4\n",
       "2   17.2   45.9       69.3   12.0\n",
       "3  151.5   41.3       58.5   16.5\n",
       "4  180.8   10.8       58.4   17.9"
      ]
     },
     "execution_count": 6,
     "metadata": {},
     "output_type": "execute_result"
    }
   ],
   "source": [
    "#dropping z-score column\n",
    "df2 = df2.drop('z_score', axis=1)\n",
    "df2.head()\n"
   ]
  },
  {
   "cell_type": "markdown",
   "id": "5fd6248f",
   "metadata": {},
   "source": [
    "## Data Split"
   ]
  },
  {
   "cell_type": "markdown",
   "id": "63f75d55",
   "metadata": {},
   "source": [
    "Data spliting  into training and testing data with 80:20 ratio, respectively.\n",
    "\n",
    "- X is the feature matrix.\n",
    "- y is the target variable.\n",
    "- test_size is the proportion of the dataset to include in the test split.\n"
   ]
  },
  {
   "cell_type": "code",
   "execution_count": 7,
   "id": "df9c78ed",
   "metadata": {},
   "outputs": [],
   "source": [
    "#Extract the features matrix and target variable\n",
    "X = df2.iloc[: , :-1]\n",
    "y = df2.iloc[: , -1]"
   ]
  },
  {
   "cell_type": "code",
   "execution_count": 8,
   "id": "c10478ac",
   "metadata": {},
   "outputs": [
    {
     "name": "stdout",
     "output_type": "stream",
     "text": [
      "Training set shape: (158, 3) (158,)\n",
      "Testing set shape: (40, 3) (40,)\n"
     ]
    }
   ],
   "source": [
    "X_train, X_test, y_train, y_test = train_test_split(X,y, test_size=0.2, random_state=0) \n",
    "\n",
    "\n",
    "# Check shapes\n",
    "print(\"Training set shape:\", X_train.shape, y_train.shape)\n",
    "print(\"Testing set shape:\", X_test.shape, y_test.shape)"
   ]
  },
  {
   "cell_type": "markdown",
   "id": "1c8cdaa1",
   "metadata": {},
   "source": [
    "## Feature Selection"
   ]
  },
  {
   "cell_type": "markdown",
   "id": "951f87b5",
   "metadata": {},
   "source": [
    "I'll perfom statistical tests between the sales and each feature inorder to identify relevant features within the dataset that can be used as predictors for the linear regression model"
   ]
  },
  {
   "cell_type": "code",
   "execution_count": 9,
   "id": "57dde7bb",
   "metadata": {},
   "outputs": [
    {
     "name": "stdout",
     "output_type": "stream",
     "text": [
      "Sales        1.000000\n",
      "TV           0.901208\n",
      "Radio        0.349631\n",
      "Newspaper    0.157960\n",
      "Name: Sales, dtype: float64\n"
     ]
    }
   ],
   "source": [
    "#correlation test\n",
    "\n",
    "# Calculate correlation matrix\n",
    "correlation_matrix = df.corr()\n",
    "\n",
    "# Extract correlation with Sales, the target variable \n",
    "feature_correlation = correlation_matrix['Sales'].abs().sort_values(ascending=False)\n",
    "print(feature_correlation)"
   ]
  },
  {
   "cell_type": "code",
   "execution_count": 22,
   "id": "87c41708",
   "metadata": {},
   "outputs": [
    {
     "name": "stdout",
     "output_type": "stream",
     "text": [
      "T-statistic: 21.629558677091286\n",
      "P-value: 5.882833188727388e-69\n"
     ]
    }
   ],
   "source": [
    "# Independent samples t-test\n",
    "t_statistic, p_value = stats.ttest_ind(df2['TV'], df2['Sales'])\n",
    "\n",
    "# Print the results\n",
    "print(f'T-statistic: {t_statistic}')\n",
    "print(f'P-value: {p_value}')\n"
   ]
  },
  {
   "cell_type": "code",
   "execution_count": 23,
   "id": "7ea3e003",
   "metadata": {},
   "outputs": [
    {
     "name": "stdout",
     "output_type": "stream",
     "text": [
      "T-statistic: 7.166087897269645\n",
      "P-value: 3.827992527582704e-12\n"
     ]
    }
   ],
   "source": [
    "# Independent samples t-test\n",
    "t_statistic, p_value = stats.ttest_ind(df2['Radio'], df2['Sales'])\n",
    "\n",
    "# Print the results\n",
    "print(f'T-statistic: {t_statistic}')\n",
    "print(f'P-value: {p_value}')"
   ]
  },
  {
   "cell_type": "code",
   "execution_count": 24,
   "id": "1a95e469",
   "metadata": {},
   "outputs": [
    {
     "name": "stdout",
     "output_type": "stream",
     "text": [
      "T-statistic: 9.781153103935413\n",
      "P-value: 2.268155462077671e-20\n"
     ]
    }
   ],
   "source": [
    "# Independent samples t-test\n",
    "t_statistic, p_value = stats.ttest_ind(df2['Newspaper'], df2['Sales'])\n",
    "\n",
    "# Print the results\n",
    "print(f'T-statistic: {t_statistic}')\n",
    "print(f'P-value: {p_value}')"
   ]
  },
  {
   "cell_type": "markdown",
   "id": "04a5ef63",
   "metadata": {},
   "source": [
    "T-statistic and P-value suggests all features have positive influence on sales therefore all features will be selected for the  model."
   ]
  },
  {
   "cell_type": "markdown",
   "id": "c2944c02",
   "metadata": {},
   "source": [
    "## Model Training"
   ]
  },
  {
   "cell_type": "code",
   "execution_count": 10,
   "id": "554ccacb",
   "metadata": {},
   "outputs": [
    {
     "data": {
      "text/html": [
       "<style>#sk-container-id-1 {color: black;}#sk-container-id-1 pre{padding: 0;}#sk-container-id-1 div.sk-toggleable {background-color: white;}#sk-container-id-1 label.sk-toggleable__label {cursor: pointer;display: block;width: 100%;margin-bottom: 0;padding: 0.3em;box-sizing: border-box;text-align: center;}#sk-container-id-1 label.sk-toggleable__label-arrow:before {content: \"▸\";float: left;margin-right: 0.25em;color: #696969;}#sk-container-id-1 label.sk-toggleable__label-arrow:hover:before {color: black;}#sk-container-id-1 div.sk-estimator:hover label.sk-toggleable__label-arrow:before {color: black;}#sk-container-id-1 div.sk-toggleable__content {max-height: 0;max-width: 0;overflow: hidden;text-align: left;background-color: #f0f8ff;}#sk-container-id-1 div.sk-toggleable__content pre {margin: 0.2em;color: black;border-radius: 0.25em;background-color: #f0f8ff;}#sk-container-id-1 input.sk-toggleable__control:checked~div.sk-toggleable__content {max-height: 200px;max-width: 100%;overflow: auto;}#sk-container-id-1 input.sk-toggleable__control:checked~label.sk-toggleable__label-arrow:before {content: \"▾\";}#sk-container-id-1 div.sk-estimator input.sk-toggleable__control:checked~label.sk-toggleable__label {background-color: #d4ebff;}#sk-container-id-1 div.sk-label input.sk-toggleable__control:checked~label.sk-toggleable__label {background-color: #d4ebff;}#sk-container-id-1 input.sk-hidden--visually {border: 0;clip: rect(1px 1px 1px 1px);clip: rect(1px, 1px, 1px, 1px);height: 1px;margin: -1px;overflow: hidden;padding: 0;position: absolute;width: 1px;}#sk-container-id-1 div.sk-estimator {font-family: monospace;background-color: #f0f8ff;border: 1px dotted black;border-radius: 0.25em;box-sizing: border-box;margin-bottom: 0.5em;}#sk-container-id-1 div.sk-estimator:hover {background-color: #d4ebff;}#sk-container-id-1 div.sk-parallel-item::after {content: \"\";width: 100%;border-bottom: 1px solid gray;flex-grow: 1;}#sk-container-id-1 div.sk-label:hover label.sk-toggleable__label {background-color: #d4ebff;}#sk-container-id-1 div.sk-serial::before {content: \"\";position: absolute;border-left: 1px solid gray;box-sizing: border-box;top: 0;bottom: 0;left: 50%;z-index: 0;}#sk-container-id-1 div.sk-serial {display: flex;flex-direction: column;align-items: center;background-color: white;padding-right: 0.2em;padding-left: 0.2em;position: relative;}#sk-container-id-1 div.sk-item {position: relative;z-index: 1;}#sk-container-id-1 div.sk-parallel {display: flex;align-items: stretch;justify-content: center;background-color: white;position: relative;}#sk-container-id-1 div.sk-item::before, #sk-container-id-1 div.sk-parallel-item::before {content: \"\";position: absolute;border-left: 1px solid gray;box-sizing: border-box;top: 0;bottom: 0;left: 50%;z-index: -1;}#sk-container-id-1 div.sk-parallel-item {display: flex;flex-direction: column;z-index: 1;position: relative;background-color: white;}#sk-container-id-1 div.sk-parallel-item:first-child::after {align-self: flex-end;width: 50%;}#sk-container-id-1 div.sk-parallel-item:last-child::after {align-self: flex-start;width: 50%;}#sk-container-id-1 div.sk-parallel-item:only-child::after {width: 0;}#sk-container-id-1 div.sk-dashed-wrapped {border: 1px dashed gray;margin: 0 0.4em 0.5em 0.4em;box-sizing: border-box;padding-bottom: 0.4em;background-color: white;}#sk-container-id-1 div.sk-label label {font-family: monospace;font-weight: bold;display: inline-block;line-height: 1.2em;}#sk-container-id-1 div.sk-label-container {text-align: center;}#sk-container-id-1 div.sk-container {/* jupyter's `normalize.less` sets `[hidden] { display: none; }` but bootstrap.min.css set `[hidden] { display: none !important; }` so we also need the `!important` here to be able to override the default hidden behavior on the sphinx rendered scikit-learn.org. See: https://github.com/scikit-learn/scikit-learn/issues/21755 */display: inline-block !important;position: relative;}#sk-container-id-1 div.sk-text-repr-fallback {display: none;}</style><div id=\"sk-container-id-1\" class=\"sk-top-container\"><div class=\"sk-text-repr-fallback\"><pre>LinearRegression(n_jobs=1)</pre><b>In a Jupyter environment, please rerun this cell to show the HTML representation or trust the notebook. <br />On GitHub, the HTML representation is unable to render, please try loading this page with nbviewer.org.</b></div><div class=\"sk-container\" hidden><div class=\"sk-item\"><div class=\"sk-estimator sk-toggleable\"><input class=\"sk-toggleable__control sk-hidden--visually\" id=\"sk-estimator-id-1\" type=\"checkbox\" checked><label for=\"sk-estimator-id-1\" class=\"sk-toggleable__label sk-toggleable__label-arrow\">LinearRegression</label><div class=\"sk-toggleable__content\"><pre>LinearRegression(n_jobs=1)</pre></div></div></div></div></div>"
      ],
      "text/plain": [
       "LinearRegression(n_jobs=1)"
      ]
     },
     "execution_count": 10,
     "metadata": {},
     "output_type": "execute_result"
    }
   ],
   "source": [
    "#Fit Multiplt Linear Regression to the trainng set\n",
    "model = LinearRegression()\n",
    "model.fit(X_train, y_train)\n",
    "LinearRegression(copy_X=True, fit_intercept=True, n_jobs=1, positive=False)\n"
   ]
  },
  {
   "cell_type": "markdown",
   "id": "1406a907",
   "metadata": {},
   "source": [
    "## Model Evaluation"
   ]
  },
  {
   "cell_type": "code",
   "execution_count": 9,
   "id": "0a92f2da",
   "metadata": {},
   "outputs": [],
   "source": [
    "#predicting the Test set result\n",
    "y_pred = model.predict(X_test)"
   ]
  },
  {
   "cell_type": "markdown",
   "id": "15aabf3f",
   "metadata": {},
   "source": [
    "**Residual Analysis to identify patterns in the spread of residuals.**\n"
   ]
  },
  {
   "cell_type": "code",
   "execution_count": 24,
   "id": "25209e79",
   "metadata": {},
   "outputs": [
    {
     "data": {
      "text/plain": [
       "19    -0.462026\n",
       "170   -0.095167\n",
       "64    -0.296690\n",
       "177    2.022476\n",
       "72    -0.757708\n",
       "87     0.789303\n",
       "5     -3.500164\n",
       "120    0.251900\n",
       "12    -0.760632\n",
       "152   -1.069200\n",
       "61     0.718906\n",
       "76     0.676161\n",
       "165   -1.124556\n",
       "97     3.705458\n",
       "115   -0.015236\n",
       "7      0.114147\n",
       "34     2.123423\n",
       "136   -0.566724\n",
       "38     0.228773\n",
       "168   -1.874585\n",
       "111    0.108672\n",
       "145   -1.942599\n",
       "46     0.025531\n",
       "159   -0.842532\n",
       "140    0.603699\n",
       "113    2.901097\n",
       "179    3.060877\n",
       "185    2.145496\n",
       "93    -0.181341\n",
       "45    -0.397564\n",
       "17     0.162918\n",
       "137   -1.898577\n",
       "138   -0.073717\n",
       "98     0.458781\n",
       "23     1.780564\n",
       "196    3.922137\n",
       "128    3.120999\n",
       "4      2.160457\n",
       "67    -0.154476\n",
       "125    0.026596\n",
       "Name: Sales, dtype: float64"
      ]
     },
     "execution_count": 24,
     "metadata": {},
     "output_type": "execute_result"
    }
   ],
   "source": [
    "residuals = y_test - y_pred\n",
    "residuals\n"
   ]
  },
  {
   "cell_type": "code",
   "execution_count": 20,
   "id": "8352fefd",
   "metadata": {},
   "outputs": [
    {
     "data": {
      "image/png": "[encoded data removed]",
      "text/plain": [
       "<Figure size 640x480 with 1 Axes>"
      ]
     },
     "metadata": {},
     "output_type": "display_data"
    }
   ],
   "source": [
    "plt.hist(residuals, bins=20)\n",
    "plt.xlabel('Residuals')\n",
    "plt.ylabel('Frequency')\n",
    "plt.title('Residual Distribution')\n",
    "plt.show()\n"
   ]
  },
  {
   "cell_type": "markdown",
   "id": "deb35407",
   "metadata": {},
   "source": [
    "**Positive Residuals**: When the residual is positive, it means that the model underpredicted the target variable for that data point. In other words, the actual value was higher than the predicted value.\n",
    "\n",
    "**Negative Residuals:** Conversely, when the residual is negative, it means that the model overpredicted the target variable for that data point. The actual value was lower than the predicted value.\n",
    "\n",
    "Th histogram showsa normal distribution of residuals implying that the errors made by the model in predicting the outcome variable (sales in this case) are randomly distributed around zero, with most errors being small and close to zero, and fewer errors being larger in magnitude, which its evident with numbers the graph.\n",
    "\n",
    "The normal distribution of residuals suggests that the linear regression model is capturing the underlying patterns in the data well and that there are no systematic biases or trends in the model's predictions. In summary, It also suggests that the model's predictions are unbiased and reliable."
   ]
  },
  {
   "cell_type": "code",
   "execution_count": 22,
   "id": "c34e7664",
   "metadata": {},
   "outputs": [
    {
     "name": "stdout",
     "output_type": "stream",
     "text": [
      "Mean Squared Error: 2.707163751213018\n",
      "R Squared Value: 0.9026978637834334\n"
     ]
    }
   ],
   "source": [
    "# quantify the overall performance of the model in terms of the residuals.\n",
    "mse = mean_squared_error(y_test, y_pred)\n",
    "r2 = r2_score(y_test,y_pred)\n",
    "\n",
    "print(\"Mean Squared Error:\", mse)\n",
    "print(\"R Squared Value:\", r2)"
   ]
  },
  {
   "cell_type": "markdown",
   "id": "55ecce3d",
   "metadata": {},
   "source": [
    "MSE value of approximately 2.707 indicates that, the squared difference between the predicted sales and the actual sales. This suggests that the model's predictions are closer to the actual sales values, indicating better overall performance.\n",
    "\n",
    "The high R-squared value of 0.903 indicates that the linear regression model explains a significant portion of the variance in sales using the advertising budgets as predictors. This suggests that the model is effective in capturing the relationship between advertising budgets and sales.\n",
    "\n",
    "Overall, these metrics suggest that the linear regression model is performing well in predicting sales based on advertising budgets, with relatively low prediction errors and a strong ability to explain the variability in sales using the provided predictors."
   ]
  },
  {
   "cell_type": "markdown",
   "id": "4c3d5ce7",
   "metadata": {},
   "source": [
    "## Model Interpretation"
   ]
  },
  {
   "cell_type": "markdown",
   "id": "81d504e4",
   "metadata": {},
   "source": [
    "On this phase we'll be understanding the relationships between the TV, Radio and Newspaper and the Sales, the target variable\n",
    "\n",
    "**Examine Coefficients:**\n",
    "\n",
    "Analyze the coefficients of each feature on the target variable. These coefficients represent the impact on the Sales "
   ]
  },
  {
   "cell_type": "code",
   "execution_count": 27,
   "id": "47051bb0",
   "metadata": {},
   "outputs": [
    {
     "name": "stdout",
     "output_type": "stream",
     "text": [
      "Model Coefficients:\n",
      "TV           0.053824\n",
      "Radio        0.107698\n",
      "Newspaper    0.007258\n",
      "dtype: float64\n"
     ]
    }
   ],
   "source": [
    "#Coefficeint\n",
    "coefficients = pd.Series(model.coef_, index=X_test.columns)\n",
    "print(\"Model Coefficients:\")\n",
    "print(coefficients)"
   ]
  },
  {
   "cell_type": "markdown",
   "id": "12f6c623",
   "metadata": {},
   "source": [
    "Radio has the biggest impacts on Sales followed by Tv almost half the impacts and newspaper has little to no impacts on sales perfomance.\n",
    "\n",
    "This could involve reallocating budget to more effective channels, adjusting spending levels based on historical performance, or implementing other strategies to enhance the effectiveness of the advertising campaigns.\n",
    "\n",
    "now i need to identify the optimal combination that leads to the highest sales."
   ]
  },
  {
   "cell_type": "markdown",
   "id": "bfe2bcbd",
   "metadata": {},
   "source": [
    "## New Campaign Prediction"
   ]
  },
  {
   "cell_type": "code",
   "execution_count": 11,
   "id": "7e798cb1",
   "metadata": {},
   "outputs": [
    {
     "name": "stdout",
     "output_type": "stream",
     "text": [
      "Predicted Sales: 18.063548677627566\n",
      "Predicted Sales: 12.85888529271435\n",
      "Predicted Sales: 11.877420499644792\n",
      "Predicted Sales: 17.882094364998565\n",
      "Predicted Sales: 20.57330520857711\n",
      "Predicted Sales: 25.960654909581045\n"
     ]
    },
    {
     "name": "stderr",
     "output_type": "stream",
     "text": [
      "C:\\Anaconda3\\Lib\\site-packages\\sklearn\\base.py:464: UserWarning: X does not have valid feature names, but LinearRegression was fitted with feature names\n",
      "  warnings.warn(\n",
      "C:\\Anaconda3\\Lib\\site-packages\\sklearn\\base.py:464: UserWarning: X does not have valid feature names, but LinearRegression was fitted with feature names\n",
      "  warnings.warn(\n",
      "C:\\Anaconda3\\Lib\\site-packages\\sklearn\\base.py:464: UserWarning: X does not have valid feature names, but LinearRegression was fitted with feature names\n",
      "  warnings.warn(\n",
      "C:\\Anaconda3\\Lib\\site-packages\\sklearn\\base.py:464: UserWarning: X does not have valid feature names, but LinearRegression was fitted with feature names\n",
      "  warnings.warn(\n",
      "C:\\Anaconda3\\Lib\\site-packages\\sklearn\\base.py:464: UserWarning: X does not have valid feature names, but LinearRegression was fitted with feature names\n",
      "  warnings.warn(\n",
      "C:\\Anaconda3\\Lib\\site-packages\\sklearn\\base.py:464: UserWarning: X does not have valid feature names, but LinearRegression was fitted with feature names\n",
      "  warnings.warn(\n"
     ]
    }
   ],
   "source": [
    "# Example: Predict sales for a new advertising campaign with budget allocation of 200 \n",
    "new_campaign_budget = [[50, 100, 25]]  # Budget allocation for radio, TV, and newspaper (2:3:1)\n",
    "predicted_sales = model.predict(new_campaign_budget)\n",
    "print(f'Predicted Sales: {predicted_sales[0]}')\n",
    "\n",
    "new_campaign_budget = [[100, 25, 50]]  # Budget allocation for radio, TV, and newspaper(3;1;2)\n",
    "predicted_sales = model.predict(new_campaign_budget)\n",
    "print(f'Predicted Sales: {predicted_sales[0]}')\n",
    "\n",
    "new_campaign_budget = [[25, 50, 100]]  # Budget allocation for radio, TV, and newspaper(1;2;3)\n",
    "predicted_sales = model.predict(new_campaign_budget)\n",
    "print(f'Predicted Sales: {predicted_sales[0]}')\n",
    "\n",
    "#Budget allocation for only radio and TV\n",
    "new_campaign_budget = [[50, 100, 0]]  \n",
    "predicted_sales = model.predict(new_campaign_budget)\n",
    "print(f'Predicted Sales: {predicted_sales[0]}')\n",
    "\n",
    "new_campaign_budget = [[100, 100, 0]]  \n",
    "predicted_sales = model.predict(new_campaign_budget)\n",
    "print(f'Predicted Sales: {predicted_sales[0]}')\n",
    "\n",
    "#Budget allocation for only radio \n",
    "new_campaign_budget = [[0, 200, 0]]  \n",
    "predicted_sales = model.predict(new_campaign_budget)\n",
    "print(f'Predicted Sales: {predicted_sales[0]}')\n",
    "\n",
    "\n"
   ]
  },
  {
   "cell_type": "markdown",
   "id": "ecb6afa0",
   "metadata": {},
   "source": [
    "I have defined several combinations of budget allocations for radio, TV, and newspaper advertising channels, each representing a different strategy. For each combination of budget allocations, I used the trained linear regression model to predict sales based on the given budget distribution.\n",
    "- The allocation with newwspaper: the optimal combination is where allocation ratio (2:3:1) is applied bewteen Tv, Radio and newspaper, respectively.\n",
    "- The allocation with no newspaper: result in higher predicted sales where 2:2 ratio is applied on both TV and Radio channels\n",
    "- The allocation with only Radio: this strategy yields the highest predicted sales.\n",
    "\n",
    "The last combination of budget allocations is likely to be the most effective in maximizing sales, according to the model. However, i'll recommend the second budget as  optimal strategy for advertising budget allocation, to make use of both Tv and Radio channels since the historical data do shows TV has a strong positive correlation (0.901 correlation test) with sales, indicating that as spending on TV advertising increases, sales tend to increase as well."
   ]
  },
  {
   "cell_type": "code",
   "execution_count": null,
   "id": "575efe28",
   "metadata": {},
   "outputs": [],
   "source": []
  }
 ],
 "metadata": {
  "kernelspec": {
   "display_name": "Python 3 (ipykernel)",
   "language": "python",
   "name": "python3"
  },
  "language_info": {
   "codemirror_mode": {
    "name": "ipython",
    "version": 3
   },
   "file_extension": ".py",
   "mimetype": "text/x-python",
   "name": "python",
   "nbconvert_exporter": "python",
   "pygments_lexer": "ipython3",
   "version": "3.11.5"
  }
 },
 "nbformat": 4,
 "nbformat_minor": 5
}
